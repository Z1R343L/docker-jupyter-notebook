{
 "cells": [
  {
   "cell_type": "code",
   "execution_count": 2,
   "metadata": {
    "ExecuteTime": {
     "end_time": "2019-08-02T12:09:22.836612Z",
     "start_time": "2019-08-02T12:09:21.481161Z"
    }
   },
   "outputs": [],
   "source": [
    "from pyiron import Project"
   ]
  },
  {
   "cell_type": "code",
   "execution_count": 3,
   "metadata": {
    "ExecuteTime": {
     "end_time": "2019-08-02T12:09:23.351274Z",
     "start_time": "2019-08-02T12:09:22.842372Z"
    }
   },
   "outputs": [],
   "source": [
    "from galaxytools import run_with_galaxy"
   ]
  },
  {
   "cell_type": "code",
   "execution_count": 4,
   "metadata": {
    "ExecuteTime": {
     "end_time": "2019-08-02T12:09:23.440845Z",
     "start_time": "2019-08-02T12:09:23.355168Z"
    }
   },
   "outputs": [],
   "source": [
    "pr = Project('galaxy')"
   ]
  },
  {
   "cell_type": "code",
   "execution_count": 5,
   "metadata": {
    "ExecuteTime": {
     "end_time": "2019-08-02T12:09:23.553177Z",
     "start_time": "2019-08-02T12:09:23.445144Z"
    }
   },
   "outputs": [],
   "source": [
    "pr.remove_jobs(recursive=True)"
   ]
  },
  {
   "cell_type": "code",
   "execution_count": 6,
   "metadata": {
    "ExecuteTime": {
     "end_time": "2019-08-02T12:09:23.603244Z",
     "start_time": "2019-08-02T12:09:23.559415Z"
    }
   },
   "outputs": [],
   "source": [
    "job = pr.create_job(pr.job_type.Lammps, 'lmp')"
   ]
  },
  {
   "cell_type": "code",
   "execution_count": 7,
   "metadata": {
    "ExecuteTime": {
     "end_time": "2019-08-02T12:09:23.686887Z",
     "start_time": "2019-08-02T12:09:23.608223Z"
    }
   },
   "outputs": [],
   "source": [
    "job.structure = pr.create_structure('Fe', 'bcc', 2.78)"
   ]
  },
  {
   "cell_type": "code",
   "execution_count": 8,
   "metadata": {
    "ExecuteTime": {
     "end_time": "2019-08-02T12:09:23.731338Z",
     "start_time": "2019-08-02T12:09:23.691365Z"
    }
   },
   "outputs": [],
   "source": [
    "job.potential = 'Fe_C_Hepburn_Ackland_eam'"
   ]
  },
  {
   "cell_type": "code",
   "execution_count": 9,
   "metadata": {
    "ExecuteTime": {
     "end_time": "2019-08-02T12:44:01.452662Z",
     "start_time": "2019-08-02T12:09:23.743879Z"
    }
   },
   "outputs": [
    {
     "name": "stdout",
     "output_type": "stream",
     "text": [
      "The job lmp was saved and received the ID: 1\n",
      "You have selected to start the job manually. To run it, go into the working directory /data/dnb03/galaxy_db/job_working_directory/011/199/11199265/working/jupyter/galaxy/lmp_hdf5/lmp and call 'python -m pyiron.cli wrapper -p /data/dnb03/galaxy_db/job_working_directory/011/199/11199265/working/jupyter/galaxy/lmp_hdf5/lmp -j 1 ' \n"
     ]
    }
   ],
   "source": [
    "run_with_galaxy(job=job)"
   ]
  },
  {
   "cell_type": "code",
   "execution_count": 10,
   "metadata": {
    "ExecuteTime": {
     "end_time": "2019-08-02T12:44:01.456818Z",
     "start_time": "2019-08-02T12:09:21.484Z"
    }
   },
   "outputs": [
    {
     "data": {
      "text/html": [
       "<div>\n",
       "<style scoped>\n",
       "    .dataframe tbody tr th:only-of-type {\n",
       "        vertical-align: middle;\n",
       "    }\n",
       "\n",
       "    .dataframe tbody tr th {\n",
       "        vertical-align: top;\n",
       "    }\n",
       "\n",
       "    .dataframe thead th {\n",
       "        text-align: right;\n",
       "    }\n",
       "</style>\n",
       "<table border=\"1\" class=\"dataframe\">\n",
       "  <thead>\n",
       "    <tr style=\"text-align: right;\">\n",
       "      <th></th>\n",
       "      <th>id</th>\n",
       "      <th>status</th>\n",
       "      <th>chemicalformula</th>\n",
       "      <th>job</th>\n",
       "      <th>subjob</th>\n",
       "      <th>projectpath</th>\n",
       "      <th>project</th>\n",
       "      <th>timestart</th>\n",
       "      <th>timestop</th>\n",
       "      <th>totalcputime</th>\n",
       "      <th>computer</th>\n",
       "      <th>hamilton</th>\n",
       "      <th>hamversion</th>\n",
       "      <th>parentid</th>\n",
       "      <th>masterid</th>\n",
       "    </tr>\n",
       "  </thead>\n",
       "  <tbody>\n",
       "    <tr>\n",
       "      <th>0</th>\n",
       "      <td>1</td>\n",
       "      <td>finished</td>\n",
       "      <td>Fe2</td>\n",
       "      <td>lmp</td>\n",
       "      <td>/lmp</td>\n",
       "      <td>/data/dnb03/galaxy_db/job_working_directory/011/199/11199265/working/</td>\n",
       "      <td>jupyter/galaxy/</td>\n",
       "      <td>2020-08-31 19:50:23.273909</td>\n",
       "      <td>None</td>\n",
       "      <td>None</td>\n",
       "      <td>pyiron@f8c3573c6c61#1</td>\n",
       "      <td>Lammps</td>\n",
       "      <td>0.1</td>\n",
       "      <td>None</td>\n",
       "      <td>None</td>\n",
       "    </tr>\n",
       "  </tbody>\n",
       "</table>\n",
       "</div>"
      ],
      "text/plain": [
       "   id    status chemicalformula  job subjob  \\\n",
       "0   1  finished             Fe2  lmp   /lmp   \n",
       "\n",
       "                                                             projectpath  \\\n",
       "0  /data/dnb03/galaxy_db/job_working_directory/011/199/11199265/working/   \n",
       "\n",
       "           project                  timestart timestop totalcputime  \\\n",
       "0  jupyter/galaxy/ 2020-08-31 19:50:23.273909     None         None   \n",
       "\n",
       "                computer hamilton hamversion parentid masterid  \n",
       "0  pyiron@f8c3573c6c61#1   Lammps        0.1     None     None  "
      ]
     },
     "execution_count": 10,
     "metadata": {},
     "output_type": "execute_result"
    }
   ],
   "source": [
    "pr.job_table()"
   ]
  },
  {
   "cell_type": "code",
   "execution_count": 11,
   "metadata": {
    "ExecuteTime": {
     "end_time": "2019-08-02T12:44:01.463105Z",
     "start_time": "2019-08-02T12:09:21.495Z"
    }
   },
   "outputs": [
    {
     "data": {
      "text/plain": [
       "{'groups': ['input', 'output'], 'nodes': ['NAME', 'TYPE', 'VERSION', 'server', 'status']}"
      ]
     },
     "execution_count": 11,
     "metadata": {},
     "output_type": "execute_result"
    }
   ],
   "source": [
    "job "
   ]
  },
  {
   "cell_type": "code",
   "execution_count": null,
   "metadata": {},
   "outputs": [],
   "source": []
  }
 ],
 "metadata": {
  "kernelspec": {
   "display_name": "Python 3",
   "language": "python",
   "name": "python3"
  },
  "language_info": {
   "codemirror_mode": {
    "name": "ipython",
    "version": 3
   },
   "file_extension": ".py",
   "mimetype": "text/x-python",
   "name": "python",
   "nbconvert_exporter": "python",
   "pygments_lexer": "ipython3",
   "version": "3.8.5"
  },
  "toc": {
   "base_numbering": 1,
   "nav_menu": {},
   "number_sections": true,
   "sideBar": true,
   "skip_h1_title": false,
   "title_cell": "Table of Contents",
   "title_sidebar": "Contents",
   "toc_cell": false,
   "toc_position": {},
   "toc_section_display": true,
   "toc_window_display": false
  }
 },
 "nbformat": 4,
 "nbformat_minor": 4
}
